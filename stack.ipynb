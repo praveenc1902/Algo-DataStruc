{
 "cells": [
  {
   "cell_type": "code",
   "execution_count": 1,
   "id": "11fadb97",
   "metadata": {},
   "outputs": [],
   "source": [
    "#Stack - First In Last Out"
   ]
  },
  {
   "cell_type": "code",
   "execution_count": null,
   "id": "7315f80c",
   "metadata": {},
   "outputs": [],
   "source": [
    "s = []\n",
    "s.append(\"a\")\n",
    "s.append(\"b\")\n",
    "s.append(\"c\")\n",
    "s.append(\"d\")\n"
   ]
  },
  {
   "cell_type": "code",
   "execution_count": 2,
   "id": "c55e90eb",
   "metadata": {},
   "outputs": [
    {
     "data": {
      "text/plain": [
       "'d'"
      ]
     },
     "execution_count": 2,
     "metadata": {},
     "output_type": "execute_result"
    }
   ],
   "source": [
    "s.pop()"
   ]
  },
  {
   "cell_type": "code",
   "execution_count": 3,
   "id": "8baa1364",
   "metadata": {},
   "outputs": [
    {
     "data": {
      "text/plain": [
       "['a', 'b', 'c']"
      ]
     },
     "execution_count": 3,
     "metadata": {},
     "output_type": "execute_result"
    }
   ],
   "source": [
    "s"
   ]
  },
  {
   "cell_type": "code",
   "execution_count": 4,
   "id": "3dd1f6c0",
   "metadata": {},
   "outputs": [
    {
     "data": {
      "text/plain": [
       "'c'"
      ]
     },
     "execution_count": 4,
     "metadata": {},
     "output_type": "execute_result"
    }
   ],
   "source": [
    "s.pop()"
   ]
  },
  {
   "cell_type": "code",
   "execution_count": 5,
   "id": "123f38a7",
   "metadata": {},
   "outputs": [
    {
     "data": {
      "text/plain": [
       "['a', 'b']"
      ]
     },
     "execution_count": 5,
     "metadata": {},
     "output_type": "execute_result"
    }
   ],
   "source": [
    "s\n"
   ]
  },
  {
   "cell_type": "code",
   "execution_count": 7,
   "id": "4ef9169d",
   "metadata": {},
   "outputs": [],
   "source": [
    "#without remvoving, if you want to just fetch last element\n"
   ]
  },
  {
   "cell_type": "code",
   "execution_count": 8,
   "id": "ad0cc1fc",
   "metadata": {},
   "outputs": [],
   "source": [
    "s2 = []\n",
    "s2.append(\"a\")\n",
    "s2.append(\"b\")\n",
    "s2.append(\"c\")\n",
    "s2.append(\"d\")"
   ]
  },
  {
   "cell_type": "code",
   "execution_count": 9,
   "id": "1e3c9e38",
   "metadata": {},
   "outputs": [
    {
     "data": {
      "text/plain": [
       "'d'"
      ]
     },
     "execution_count": 9,
     "metadata": {},
     "output_type": "execute_result"
    }
   ],
   "source": [
    "s2[-1]"
   ]
  },
  {
   "cell_type": "code",
   "execution_count": 10,
   "id": "14aa820a",
   "metadata": {},
   "outputs": [],
   "source": [
    "from collections import deque"
   ]
  },
  {
   "cell_type": "code",
   "execution_count": 11,
   "id": "d27bdfd1",
   "metadata": {},
   "outputs": [],
   "source": [
    "stack = deque()"
   ]
  },
  {
   "cell_type": "code",
   "execution_count": 12,
   "id": "ef3742ad",
   "metadata": {},
   "outputs": [],
   "source": [
    "stack.append('z')\n",
    "stack.append('y')\n",
    "stack.append('x')\n",
    "stack.append('w')"
   ]
  },
  {
   "cell_type": "code",
   "execution_count": 13,
   "id": "07ac8ce0",
   "metadata": {},
   "outputs": [
    {
     "data": {
      "text/plain": [
       "'w'"
      ]
     },
     "execution_count": 13,
     "metadata": {},
     "output_type": "execute_result"
    }
   ],
   "source": [
    "stack.pop()"
   ]
  },
  {
   "cell_type": "code",
   "execution_count": 14,
   "id": "8075a4a2",
   "metadata": {},
   "outputs": [
    {
     "data": {
      "text/plain": [
       "deque(['z', 'y', 'x'])"
      ]
     },
     "execution_count": 14,
     "metadata": {},
     "output_type": "execute_result"
    }
   ],
   "source": [
    "stack"
   ]
  },
  {
   "cell_type": "code",
   "execution_count": 20,
   "id": "dee93ebd",
   "metadata": {},
   "outputs": [],
   "source": [
    "class Stack:\n",
    "    def __init__(self):\n",
    "        self.container = deque()\n",
    "    def push(self,val):\n",
    "        return self.container.append(val)\n",
    "    def pop(self):\n",
    "        return self.container.pop()\n",
    "    def peek(self):\n",
    "        return self.container[:-1]\n",
    "    def is_empty(self):\n",
    "        return len(self.container)==0"
   ]
  },
  {
   "cell_type": "code",
   "execution_count": 21,
   "id": "5073bd25",
   "metadata": {},
   "outputs": [],
   "source": [
    "s= Stack()"
   ]
  },
  {
   "cell_type": "code",
   "execution_count": 22,
   "id": "faa6bea7",
   "metadata": {},
   "outputs": [],
   "source": [
    "s.push(1)"
   ]
  },
  {
   "cell_type": "code",
   "execution_count": 23,
   "id": "967259f2",
   "metadata": {},
   "outputs": [],
   "source": [
    "s.push(2)"
   ]
  },
  {
   "cell_type": "code",
   "execution_count": 24,
   "id": "5684ed42",
   "metadata": {},
   "outputs": [],
   "source": [
    "s.push(3)"
   ]
  },
  {
   "cell_type": "code",
   "execution_count": 25,
   "id": "39ad99cd",
   "metadata": {},
   "outputs": [
    {
     "data": {
      "text/plain": [
       "3"
      ]
     },
     "execution_count": 25,
     "metadata": {},
     "output_type": "execute_result"
    }
   ],
   "source": [
    "s.pop()"
   ]
  },
  {
   "cell_type": "code",
   "execution_count": null,
   "id": "4d8e9b9c",
   "metadata": {},
   "outputs": [],
   "source": []
  }
 ],
 "metadata": {
  "kernelspec": {
   "display_name": "Python 3 (ipykernel)",
   "language": "python",
   "name": "python3"
  },
  "language_info": {
   "codemirror_mode": {
    "name": "ipython",
    "version": 3
   },
   "file_extension": ".py",
   "mimetype": "text/x-python",
   "name": "python",
   "nbconvert_exporter": "python",
   "pygments_lexer": "ipython3",
   "version": "3.9.13"
  }
 },
 "nbformat": 4,
 "nbformat_minor": 5
}
