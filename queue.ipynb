{
 "cells": [
  {
   "cell_type": "code",
   "execution_count": 1,
   "id": "2d37fca3",
   "metadata": {},
   "outputs": [],
   "source": [
    "stock_proce_queue = []"
   ]
  },
  {
   "cell_type": "code",
   "execution_count": 2,
   "id": "500cddaf",
   "metadata": {},
   "outputs": [],
   "source": [
    "stock_proce_queue.insert(0,130.5)\n",
    "stock_proce_queue.insert(0,133.5)\n",
    "stock_proce_queue.insert(0,135.5)"
   ]
  },
  {
   "cell_type": "code",
   "execution_count": 3,
   "id": "954d6e1f",
   "metadata": {},
   "outputs": [
    {
     "data": {
      "text/plain": [
       "[135.5, 133.5, 130.5]"
      ]
     },
     "execution_count": 3,
     "metadata": {},
     "output_type": "execute_result"
    }
   ],
   "source": [
    "stock_proce_queue"
   ]
  },
  {
   "cell_type": "code",
   "execution_count": 4,
   "id": "e1d0cd87",
   "metadata": {},
   "outputs": [
    {
     "data": {
      "text/plain": [
       "130.5"
      ]
     },
     "execution_count": 4,
     "metadata": {},
     "output_type": "execute_result"
    }
   ],
   "source": [
    "stock_proce_queue.pop()"
   ]
  },
  {
   "cell_type": "code",
   "execution_count": 5,
   "id": "0a01ca95",
   "metadata": {},
   "outputs": [
    {
     "data": {
      "text/plain": [
       "133.5"
      ]
     },
     "execution_count": 5,
     "metadata": {},
     "output_type": "execute_result"
    }
   ],
   "source": [
    "stock_proce_queue.pop()"
   ]
  },
  {
   "cell_type": "code",
   "execution_count": 6,
   "id": "c0ed183e",
   "metadata": {},
   "outputs": [
    {
     "data": {
      "text/plain": [
       "135.5"
      ]
     },
     "execution_count": 6,
     "metadata": {},
     "output_type": "execute_result"
    }
   ],
   "source": [
    "stock_proce_queue.pop()"
   ]
  },
  {
   "cell_type": "code",
   "execution_count": 7,
   "id": "3cf97095",
   "metadata": {},
   "outputs": [
    {
     "ename": "IndexError",
     "evalue": "pop from empty list",
     "output_type": "error",
     "traceback": [
      "\u001b[1;31m---------------------------------------------------------------------------\u001b[0m",
      "\u001b[1;31mIndexError\u001b[0m                                Traceback (most recent call last)",
      "\u001b[1;32m~\\AppData\\Local\\Temp\\ipykernel_19984\\2344225199.py\u001b[0m in \u001b[0;36m<module>\u001b[1;34m\u001b[0m\n\u001b[1;32m----> 1\u001b[1;33m \u001b[0mstock_proce_queue\u001b[0m\u001b[1;33m.\u001b[0m\u001b[0mpop\u001b[0m\u001b[1;33m(\u001b[0m\u001b[1;33m)\u001b[0m\u001b[1;33m\u001b[0m\u001b[1;33m\u001b[0m\u001b[0m\n\u001b[0m",
      "\u001b[1;31mIndexError\u001b[0m: pop from empty list"
     ]
    }
   ],
   "source": [
    "stock_proce_queue.pop()"
   ]
  },
  {
   "cell_type": "code",
   "execution_count": 8,
   "id": "678af874",
   "metadata": {},
   "outputs": [],
   "source": [
    "from collections import deque"
   ]
  },
  {
   "cell_type": "code",
   "execution_count": 10,
   "id": "fe7c8fdc",
   "metadata": {},
   "outputs": [],
   "source": [
    "q = deque()"
   ]
  },
  {
   "cell_type": "code",
   "execution_count": 12,
   "id": "5eb3a4d9",
   "metadata": {},
   "outputs": [],
   "source": [
    "q.appendleft(123)\n",
    "q.appendleft(456)\n",
    "q.appendleft(789)\n",
    "q.appendleft(1011)"
   ]
  },
  {
   "cell_type": "code",
   "execution_count": 13,
   "id": "db41a988",
   "metadata": {},
   "outputs": [
    {
     "data": {
      "text/plain": [
       "123"
      ]
     },
     "execution_count": 13,
     "metadata": {},
     "output_type": "execute_result"
    }
   ],
   "source": [
    "q.pop()"
   ]
  },
  {
   "cell_type": "code",
   "execution_count": 14,
   "id": "8fec48a3",
   "metadata": {},
   "outputs": [
    {
     "data": {
      "text/plain": [
       "456"
      ]
     },
     "execution_count": 14,
     "metadata": {},
     "output_type": "execute_result"
    }
   ],
   "source": [
    "q.pop()"
   ]
  },
  {
   "cell_type": "code",
   "execution_count": 15,
   "id": "ac293317",
   "metadata": {},
   "outputs": [],
   "source": [
    "class Queue:\n",
    "    def __init__(self):\n",
    "        self.container = deque()\n",
    "    def enqueue(self,val):\n",
    "        return self.container.appendleft(val)\n",
    "    def dequeue(self):\n",
    "        return self.container.pop()\n",
    "    def size(self):\n",
    "        return len(self.container)\n",
    "    def is_empty(self):\n",
    "        return len(self.container)==0"
   ]
  },
  {
   "cell_type": "code",
   "execution_count": 16,
   "id": "2c957a1b",
   "metadata": {},
   "outputs": [],
   "source": [
    "q1 = Queue()"
   ]
  },
  {
   "cell_type": "code",
   "execution_count": 18,
   "id": "e6093136",
   "metadata": {},
   "outputs": [],
   "source": [
    "q1.enqueue(10)\n",
    "q1.enqueue(20)\n",
    "q1.enqueue(30)"
   ]
  },
  {
   "cell_type": "code",
   "execution_count": 20,
   "id": "aa0aaf95",
   "metadata": {},
   "outputs": [
    {
     "data": {
      "text/plain": [
       "10"
      ]
     },
     "execution_count": 20,
     "metadata": {},
     "output_type": "execute_result"
    }
   ],
   "source": [
    "q1.dequeue()"
   ]
  },
  {
   "cell_type": "code",
   "execution_count": null,
   "id": "840c81a2",
   "metadata": {},
   "outputs": [],
   "source": []
  }
 ],
 "metadata": {
  "kernelspec": {
   "display_name": "Python 3 (ipykernel)",
   "language": "python",
   "name": "python3"
  },
  "language_info": {
   "codemirror_mode": {
    "name": "ipython",
    "version": 3
   },
   "file_extension": ".py",
   "mimetype": "text/x-python",
   "name": "python",
   "nbconvert_exporter": "python",
   "pygments_lexer": "ipython3",
   "version": "3.9.13"
  }
 },
 "nbformat": 4,
 "nbformat_minor": 5
}
