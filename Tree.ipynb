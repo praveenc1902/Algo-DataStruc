{
 "cells": [
  {
   "cell_type": "code",
   "execution_count": 7,
   "id": "9aa8c7c0",
   "metadata": {},
   "outputs": [
    {
     "name": "stdout",
     "output_type": "stream",
     "text": [
      "Electronics\n",
      "Laptop\n",
      "surface\n",
      "mac\n",
      "thickpad\n",
      "CellPhone\n",
      "iphone\n",
      "pixel\n",
      "vivo\n"
     ]
    }
   ],
   "source": [
    "class TreeNode:\n",
    "    def __init__(self,data):\n",
    "        self.data= data\n",
    "        self.child = []\n",
    "        self.parent=None\n",
    "    def add_child(self,child):\n",
    "        child.parent = self\n",
    "        self.child.append(child)\n",
    "    \n",
    "    def print_tree(self):\n",
    "        print(self.data)\n",
    "        if self.child:\n",
    "            for child in self.child:\n",
    "#             print(child.data)\n",
    "\n",
    "                child.print_tree()\n",
    "        \n",
    "def build_product_tree():\n",
    "    root = TreeNode('Electronics')\n",
    "    \n",
    "    laptop = TreeNode('Laptop')\n",
    "    laptop.add_child(TreeNode('surface'))\n",
    "    laptop.add_child(TreeNode('mac'))\n",
    "    laptop.add_child(TreeNode('thickpad'))\n",
    "    \n",
    "    cell = TreeNode('CellPhone')\n",
    "    cell.add_child(TreeNode('iphone'))\n",
    "    cell.add_child(TreeNode('pixel'))\n",
    "    cell.add_child(TreeNode('vivo'))\n",
    "    \n",
    "    root.add_child(laptop)\n",
    "    root.add_child(cell)\n",
    "    \n",
    "    return root\n",
    "    \n",
    "\n",
    "if __name__ == '__main__':\n",
    "    root = build_product_tree()\n",
    "    root.print_tree()"
   ]
  },
  {
   "cell_type": "code",
   "execution_count": null,
   "id": "8d04bbcf",
   "metadata": {},
   "outputs": [],
   "source": []
  }
 ],
 "metadata": {
  "kernelspec": {
   "display_name": "Python 3 (ipykernel)",
   "language": "python",
   "name": "python3"
  },
  "language_info": {
   "codemirror_mode": {
    "name": "ipython",
    "version": 3
   },
   "file_extension": ".py",
   "mimetype": "text/x-python",
   "name": "python",
   "nbconvert_exporter": "python",
   "pygments_lexer": "ipython3",
   "version": "3.9.13"
  }
 },
 "nbformat": 4,
 "nbformat_minor": 5
}
